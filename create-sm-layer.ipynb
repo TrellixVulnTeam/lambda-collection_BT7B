{
 "cells": [
  {
   "cell_type": "markdown",
   "id": "jewish-findings",
   "metadata": {},
   "source": [
    "### Create a SageMaker Lambda layer"
   ]
  },
  {
   "cell_type": "code",
   "execution_count": null,
   "id": "abroad-panel",
   "metadata": {},
   "outputs": [],
   "source": [
    "!pwd"
   ]
  },
  {
   "cell_type": "code",
   "execution_count": null,
   "id": "native-exposure",
   "metadata": {},
   "outputs": [],
   "source": [
    "!python -V"
   ]
  },
  {
   "cell_type": "code",
   "execution_count": null,
   "id": "roman-morris",
   "metadata": {},
   "outputs": [],
   "source": [
    "!pip install sagemaker -t ./sm_layer"
   ]
  },
  {
   "cell_type": "code",
   "execution_count": null,
   "id": "silent-nowhere",
   "metadata": {},
   "outputs": [],
   "source": [
    "!zip -r sm_layer.zip sm_layer/"
   ]
  },
  {
   "cell_type": "markdown",
   "id": "revised-marina",
   "metadata": {},
   "source": [
    "**Note:** Make sure you use same Python runtime all throughout the process."
   ]
  },
  {
   "cell_type": "markdown",
   "id": "settled-wealth",
   "metadata": {},
   "source": [
    "### Lambda Handler code"
   ]
  },
  {
   "cell_type": "markdown",
   "id": "abstract-allowance",
   "metadata": {},
   "source": [
    "Use the zip created above to create a Lambda layer and use it when creating the Lambda handler."
   ]
  },
  {
   "cell_type": "code",
   "execution_count": null,
   "id": "taken-andorra",
   "metadata": {},
   "outputs": [],
   "source": [
    "import logging\n",
    "import boto3\n",
    "import json\n",
    "import os\n",
    "\n",
    "\n",
    "if os.getenv('AWS_EXECUTION_ENV') == 'AWS_Lambda_python3.6':\n",
    "    import sys\n",
    "\n",
    "    sys.path.insert(0, '/opt/sm_layer')\n",
    "\n",
    "import sagemaker\n",
    "\n",
    "\n",
    "print(f'Using SageMaker version: {sagemaker.__version__}')\n",
    "print(f'Using Boto3 version: {boto3.__version__}')\n",
    "\n",
    "\n",
    "def lambda_handler(event, context):\n",
    "    body = {\n",
    "        \"message\": \"Hello World!\",\n",
    "        \"input\": event\n",
    "    }\n",
    "    response = {\n",
    "        \"statusCode\": 200,\n",
    "        \"body\": json.dumps(body)\n",
    "    }\n",
    "    return response"
   ]
  },
  {
   "cell_type": "code",
   "execution_count": null,
   "id": "moderate-projection",
   "metadata": {},
   "outputs": [],
   "source": []
  },
  {
   "cell_type": "code",
   "execution_count": null,
   "id": "published-amplifier",
   "metadata": {},
   "outputs": [],
   "source": []
  },
  {
   "cell_type": "code",
   "execution_count": null,
   "id": "vocal-bargain",
   "metadata": {},
   "outputs": [],
   "source": []
  },
  {
   "cell_type": "code",
   "execution_count": null,
   "id": "polar-accountability",
   "metadata": {},
   "outputs": [],
   "source": []
  }
 ],
 "metadata": {
  "kernelspec": {
   "display_name": "conda_python3",
   "language": "python",
   "name": "conda_python3"
  },
  "language_info": {
   "codemirror_mode": {
    "name": "ipython",
    "version": 3
   },
   "file_extension": ".py",
   "mimetype": "text/x-python",
   "name": "python",
   "nbconvert_exporter": "python",
   "pygments_lexer": "ipython3",
   "version": "3.6.10"
  }
 },
 "nbformat": 4,
 "nbformat_minor": 5
}
