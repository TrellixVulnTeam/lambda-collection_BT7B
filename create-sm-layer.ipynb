{
 "cells": [
  {
   "cell_type": "markdown",
   "id": "complete-tract",
   "metadata": {},
   "source": [
    "### Create a SageMaker Lambda layer"
   ]
  },
  {
   "cell_type": "code",
   "execution_count": 1,
   "id": "allied-response",
   "metadata": {},
   "outputs": [
    {
     "name": "stdout",
     "output_type": "stream",
     "text": [
      "/home/ec2-user/SageMaker/lambda-collection\r\n"
     ]
    }
   ],
   "source": [
    "!pwd"
   ]
  },
  {
   "cell_type": "code",
   "execution_count": 2,
   "id": "prerequisite-syndicate",
   "metadata": {},
   "outputs": [
    {
     "name": "stdout",
     "output_type": "stream",
     "text": [
      "Python 3.6.10 :: Anaconda, Inc.\r\n"
     ]
    }
   ],
   "source": [
    "!python -V"
   ]
  },
  {
   "cell_type": "code",
   "execution_count": 8,
   "id": "induced-riverside",
   "metadata": {},
   "outputs": [
    {
     "name": "stdout",
     "output_type": "stream",
     "text": [
      "Loaded plugins: dkms-build-requires, priorities, update-motd, upgrade-helper,\n",
      "              : versionlock\n",
      "libnvidia-container                                                       85/85\n",
      "nvidia-container-runtime                                                  35/35\n",
      "nvidia-docker                                                             18/18\n",
      "No package \u001b[1munixodbc-dev\u001b[m available.\n",
      "Error: Nothing to do\n"
     ]
    }
   ],
   "source": [
    "!pip install sagemaker -t ./sm_layer"
   ]
  },
  {
   "cell_type": "code",
   "execution_count": null,
   "id": "radio-manitoba",
   "metadata": {},
   "outputs": [],
   "source": [
    "!zip -r sm_layer.zip sm_layer/"
   ]
  },
  {
   "cell_type": "markdown",
   "id": "advised-maine",
   "metadata": {},
   "source": [
    "**Note:** Make sure you use same Python runtime all throughout the process."
   ]
  },
  {
   "cell_type": "markdown",
   "id": "designing-lounge",
   "metadata": {},
   "source": [
    "### Lambda Handler code"
   ]
  },
  {
   "cell_type": "markdown",
   "id": "rolled-right",
   "metadata": {},
   "source": [
    "Use the zip created above to create a Lambda layer and use it when creating the Lambda handler."
   ]
  },
  {
   "cell_type": "code",
   "execution_count": null,
   "id": "incoming-migration",
   "metadata": {},
   "outputs": [],
   "source": [
    "import logging\n",
    "import boto3\n",
    "import json\n",
    "import os\n",
    "\n",
    "\n",
    "if os.getenv('AWS_EXECUTION_ENV') == 'AWS_Lambda_python3.6':\n",
    "    import sys\n",
    "\n",
    "    sys.path.insert(0, '/opt/sm_layer')\n",
    "\n",
    "import sagemaker\n",
    "\n",
    "\n",
    "print(f'Using SageMaker version: {sagemaker.__version__}')\n",
    "print(f'Using Boto3 version: {boto3.__version__}')\n",
    "\n",
    "\n",
    "def lambda_handler(event, context):\n",
    "    body = {\n",
    "        \"message\": \"Hello World!\",\n",
    "        \"input\": event\n",
    "    }\n",
    "    response = {\n",
    "        \"statusCode\": 200,\n",
    "        \"body\": json.dumps(body)\n",
    "    }\n",
    "    return response"
   ]
  },
  {
   "cell_type": "code",
   "execution_count": null,
   "id": "lasting-hybrid",
   "metadata": {},
   "outputs": [],
   "source": []
  },
  {
   "cell_type": "code",
   "execution_count": null,
   "id": "color-longitude",
   "metadata": {},
   "outputs": [],
   "source": []
  },
  {
   "cell_type": "code",
   "execution_count": null,
   "id": "handed-pound",
   "metadata": {},
   "outputs": [],
   "source": []
  },
  {
   "cell_type": "code",
   "execution_count": null,
   "id": "adopted-model",
   "metadata": {},
   "outputs": [],
   "source": []
  }
 ],
 "metadata": {
  "kernelspec": {
   "display_name": "conda_python3",
   "language": "python",
   "name": "conda_python3"
  },
  "language_info": {
   "codemirror_mode": {
    "name": "ipython",
    "version": 3
   },
   "file_extension": ".py",
   "mimetype": "text/x-python",
   "name": "python",
   "nbconvert_exporter": "python",
   "pygments_lexer": "ipython3",
   "version": "3.6.10"
  }
 },
 "nbformat": 4,
 "nbformat_minor": 5
}
